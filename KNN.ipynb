{
 "cells": [
  {
   "cell_type": "markdown",
   "metadata": {},
   "source": [
    "# KNN : NEAREST NEIGHBOUR\n",
    "### CLASSIFICATION ALGORITHM"
   ]
  },
  {
   "cell_type": "markdown",
   "metadata": {},
   "source": [
    "Abstract: The dataset concerns with the classification of two mental stages from recorded EEG signals: Planning (during imagination of motor act) and Relax state.\n"
   ]
  },
  {
   "cell_type": "markdown",
   "metadata": {},
   "source": [
    "Load libraries"
   ]
  },
  {
   "cell_type": "code",
   "execution_count": 1,
   "metadata": {},
   "outputs": [],
   "source": [
    "import itertools\n",
    "import numpy as np\n",
    "import matplotlib.pyplot as plt\n",
    "from matplotlib.ticker import NullFormatter\n",
    "import pandas as pd\n",
    "import numpy as np\n",
    "import matplotlib.ticker as ticker\n",
    "from sklearn import preprocessing\n",
    "%matplotlib inline"
   ]
  },
  {
   "cell_type": "code",
   "execution_count": 42,
   "metadata": {},
   "outputs": [
    {
     "data": {
      "text/html": [
       "<div>\n",
       "<style scoped>\n",
       "    .dataframe tbody tr th:only-of-type {\n",
       "        vertical-align: middle;\n",
       "    }\n",
       "\n",
       "    .dataframe tbody tr th {\n",
       "        vertical-align: top;\n",
       "    }\n",
       "\n",
       "    .dataframe thead th {\n",
       "        text-align: right;\n",
       "    }\n",
       "</style>\n",
       "<table border=\"1\" class=\"dataframe\">\n",
       "  <thead>\n",
       "    <tr style=\"text-align: right;\">\n",
       "      <th></th>\n",
       "      <th>wave1</th>\n",
       "      <th>wave2</th>\n",
       "      <th>wave3</th>\n",
       "      <th>wave4</th>\n",
       "      <th>wave5</th>\n",
       "      <th>wave6</th>\n",
       "      <th>wave7</th>\n",
       "      <th>wave8</th>\n",
       "      <th>wave9</th>\n",
       "      <th>wave10</th>\n",
       "      <th>wave11</th>\n",
       "      <th>wave12</th>\n",
       "      <th>State</th>\n",
       "    </tr>\n",
       "  </thead>\n",
       "  <tbody>\n",
       "    <tr>\n",
       "      <td>0</td>\n",
       "      <td>-0.179</td>\n",
       "      <td>-0.207</td>\n",
       "      <td>-0.2100</td>\n",
       "      <td>-0.0973</td>\n",
       "      <td>-0.1190</td>\n",
       "      <td>-0.173</td>\n",
       "      <td>-0.2810</td>\n",
       "      <td>0.2230</td>\n",
       "      <td>0.4190</td>\n",
       "      <td>-0.0329</td>\n",
       "      <td>0.00338</td>\n",
       "      <td>-0.334</td>\n",
       "      <td>1.0</td>\n",
       "    </tr>\n",
       "    <tr>\n",
       "      <td>1</td>\n",
       "      <td>-0.147</td>\n",
       "      <td>-0.165</td>\n",
       "      <td>0.2500</td>\n",
       "      <td>-0.0740</td>\n",
       "      <td>0.4950</td>\n",
       "      <td>-0.156</td>\n",
       "      <td>-0.2890</td>\n",
       "      <td>0.5010</td>\n",
       "      <td>-0.0456</td>\n",
       "      <td>0.0508</td>\n",
       "      <td>-0.01750</td>\n",
       "      <td>0.067</td>\n",
       "      <td>1.0</td>\n",
       "    </tr>\n",
       "    <tr>\n",
       "      <td>2</td>\n",
       "      <td>-0.131</td>\n",
       "      <td>0.518</td>\n",
       "      <td>0.4330</td>\n",
       "      <td>0.3980</td>\n",
       "      <td>0.0431</td>\n",
       "      <td>0.563</td>\n",
       "      <td>-0.0132</td>\n",
       "      <td>-0.0628</td>\n",
       "      <td>-0.8830</td>\n",
       "      <td>-0.0403</td>\n",
       "      <td>0.08810</td>\n",
       "      <td>0.631</td>\n",
       "      <td>2.0</td>\n",
       "    </tr>\n",
       "    <tr>\n",
       "      <td>3</td>\n",
       "      <td>0.649</td>\n",
       "      <td>0.419</td>\n",
       "      <td>0.1480</td>\n",
       "      <td>0.3330</td>\n",
       "      <td>-0.2200</td>\n",
       "      <td>0.399</td>\n",
       "      <td>0.5910</td>\n",
       "      <td>0.0771</td>\n",
       "      <td>-1.1100</td>\n",
       "      <td>-0.3670</td>\n",
       "      <td>0.36500</td>\n",
       "      <td>0.572</td>\n",
       "      <td>1.0</td>\n",
       "    </tr>\n",
       "    <tr>\n",
       "      <td>4</td>\n",
       "      <td>-0.406</td>\n",
       "      <td>0.115</td>\n",
       "      <td>0.0733</td>\n",
       "      <td>0.0701</td>\n",
       "      <td>-0.0309</td>\n",
       "      <td>0.152</td>\n",
       "      <td>-0.1910</td>\n",
       "      <td>-0.5800</td>\n",
       "      <td>-0.1020</td>\n",
       "      <td>0.1540</td>\n",
       "      <td>-0.12700</td>\n",
       "      <td>0.185</td>\n",
       "      <td>1.0</td>\n",
       "    </tr>\n",
       "  </tbody>\n",
       "</table>\n",
       "</div>"
      ],
      "text/plain": [
       "   wave1  wave2   wave3   wave4   wave5  wave6   wave7   wave8   wave9  \\\n",
       "0 -0.179 -0.207 -0.2100 -0.0973 -0.1190 -0.173 -0.2810  0.2230  0.4190   \n",
       "1 -0.147 -0.165  0.2500 -0.0740  0.4950 -0.156 -0.2890  0.5010 -0.0456   \n",
       "2 -0.131  0.518  0.4330  0.3980  0.0431  0.563 -0.0132 -0.0628 -0.8830   \n",
       "3  0.649  0.419  0.1480  0.3330 -0.2200  0.399  0.5910  0.0771 -1.1100   \n",
       "4 -0.406  0.115  0.0733  0.0701 -0.0309  0.152 -0.1910 -0.5800 -0.1020   \n",
       "\n",
       "   wave10   wave11  wave12  State  \n",
       "0 -0.0329  0.00338  -0.334    1.0  \n",
       "1  0.0508 -0.01750   0.067    1.0  \n",
       "2 -0.0403  0.08810   0.631    2.0  \n",
       "3 -0.3670  0.36500   0.572    1.0  \n",
       "4  0.1540 -0.12700   0.185    1.0  "
      ]
     },
     "execution_count": 42,
     "metadata": {},
     "output_type": "execute_result"
    }
   ],
   "source": [
    "df=pd.read_csv(r'C:\\Users\\91984\\Desktop\\epoc.csv',encoding = \"ISO-8859-1\")\n",
    "df.head()"
   ]
  },
  {
   "cell_type": "markdown",
   "metadata": {},
   "source": [
    "Find the number of classes"
   ]
  },
  {
   "cell_type": "code",
   "execution_count": 44,
   "metadata": {},
   "outputs": [
    {
     "data": {
      "text/plain": [
       "1.0    130\n",
       "2.0     52\n",
       "Name: State, dtype: int64"
      ]
     },
     "execution_count": 44,
     "metadata": {},
     "output_type": "execute_result"
    }
   ],
   "source": [
    "df['State'].value_counts()"
   ]
  },
  {
   "cell_type": "markdown",
   "metadata": {},
   "source": [
    "Find the feature set"
   ]
  },
  {
   "cell_type": "code",
   "execution_count": 45,
   "metadata": {},
   "outputs": [
    {
     "data": {
      "text/plain": [
       "Index(['wave1', 'wave2', 'wave3', 'wave4', 'wave5', 'wave6', 'wave7', 'wave8',\n",
       "       'wave9', 'wave10', 'wave11', 'wave12', 'State'],\n",
       "      dtype='object')"
      ]
     },
     "execution_count": 45,
     "metadata": {},
     "output_type": "execute_result"
    }
   ],
   "source": [
    "df.columns"
   ]
  },
  {
   "cell_type": "markdown",
   "metadata": {},
   "source": [
    "Convert Pandas to  nuumpy so that Sci-kit library could be used"
   ]
  },
  {
   "cell_type": "code",
   "execution_count": 56,
   "metadata": {},
   "outputs": [
    {
     "data": {
      "text/plain": [
       "array([[-0.179  , -0.207  , -0.21   , -0.0973 , -0.119  , -0.173  ,\n",
       "        -0.281  ,  0.223  ,  0.419  , -0.0329 ,  0.00338, -0.334  ,\n",
       "         1.     ],\n",
       "       [-0.147  , -0.165  ,  0.25   , -0.074  ,  0.495  , -0.156  ,\n",
       "        -0.289  ,  0.501  , -0.0456 ,  0.0508 , -0.0175 ,  0.067  ,\n",
       "         1.     ],\n",
       "       [-0.131  ,  0.518  ,  0.433  ,  0.398  ,  0.0431 ,  0.563  ,\n",
       "        -0.0132 , -0.0628 , -0.883  , -0.0403 ,  0.0881 ,  0.631  ,\n",
       "         2.     ],\n",
       "       [ 0.649  ,  0.419  ,  0.148  ,  0.333  , -0.22   ,  0.399  ,\n",
       "         0.591  ,  0.0771 , -1.11   , -0.367  ,  0.365  ,  0.572  ,\n",
       "         1.     ],\n",
       "       [-0.406  ,  0.115  ,  0.0733 ,  0.0701 , -0.0309 ,  0.152  ,\n",
       "        -0.191  , -0.58   , -0.102  ,  0.154  , -0.127  ,  0.185  ,\n",
       "         1.     ]])"
      ]
     },
     "execution_count": 56,
     "metadata": {},
     "output_type": "execute_result"
    }
   ],
   "source": [
    "X = df[['wave1', 'wave2', 'wave3', 'wave4', 'wave5', 'wave6', 'wave7', 'wave8',\n",
    "       'wave9', 'wave10', 'wave11', 'wave12', 'State']].values \n",
    "X[0:5]"
   ]
  },
  {
   "cell_type": "markdown",
   "metadata": {},
   "source": [
    "Groups to which we need to classify"
   ]
  },
  {
   "cell_type": "code",
   "execution_count": 57,
   "metadata": {},
   "outputs": [
    {
     "data": {
      "text/plain": [
       "array([1., 1., 2., 1., 1.])"
      ]
     },
     "execution_count": 57,
     "metadata": {},
     "output_type": "execute_result"
    }
   ],
   "source": [
    "y=df['State'].values\n",
    "y[0:5]"
   ]
  },
  {
   "cell_type": "markdown",
   "metadata": {},
   "source": [
    "#### Normalize Data"
   ]
  },
  {
   "cell_type": "code",
   "execution_count": 58,
   "metadata": {},
   "outputs": [
    {
     "data": {
      "text/plain": [
       "array([[-3.52357021e-01, -5.32326002e-01, -5.90812885e-01,\n",
       "        -2.06348807e-01, -2.46161527e-01, -4.16874915e-01,\n",
       "        -5.97556229e-01,  5.73203277e-01,  8.69534686e-01,\n",
       "        -6.28321220e-02, -2.21484966e-03, -9.89480117e-01,\n",
       "        -6.32455532e-01],\n",
       "       [-2.85868664e-01, -4.22587481e-01,  7.53381033e-01,\n",
       "        -1.49833326e-01,  1.04516505e+00, -3.74701392e-01,\n",
       "        -6.15060760e-01,  1.29355984e+00, -8.06184923e-02,\n",
       "         1.33194061e-01, -6.30913366e-02,  2.13619521e-01,\n",
       "        -6.32455532e-01],\n",
       "       [-2.52624486e-01,  1.36196989e+00,  1.28813644e+00,\n",
       "         9.95029629e-01,  9.47571025e-02,  1.40899055e+00,\n",
       "        -1.15920629e-02, -1.67364731e-01, -1.79318472e+00,\n",
       "        -8.01629912e-02,  2.44789747e-01,  1.90575966e+00,\n",
       "         1.58113883e+00],\n",
       "       [ 1.36802921e+00,  1.10330052e+00,  4.55320643e-01,\n",
       "         8.37368417e-01, -4.58578440e-01,  1.00214009e+00,\n",
       "         1.31043762e+00,  1.95145641e-01, -2.25742229e+00,\n",
       "        -8.45297449e-01,  1.05210293e+00,  1.72874500e+00,\n",
       "        -6.32455532e-01],\n",
       "       [-8.24008801e-01,  3.09002657e-01,  2.37035239e-01,\n",
       "         1.99689453e-01, -6.08750911e-02,  3.89383612e-01,\n",
       "        -4.00630259e-01, -1.50753889e+00, -1.95962098e-01,\n",
       "         3.74889427e-01, -3.82343028e-01,  5.67648841e-01,\n",
       "        -6.32455532e-01]])"
      ]
     },
     "execution_count": 58,
     "metadata": {},
     "output_type": "execute_result"
    }
   ],
   "source": [
    "X = preprocessing.StandardScaler().fit(X).transform(X.astype(float))\n",
    "X[0:5]"
   ]
  },
  {
   "cell_type": "markdown",
   "metadata": {},
   "source": [
    "Split into Train-Test"
   ]
  },
  {
   "cell_type": "code",
   "execution_count": 59,
   "metadata": {},
   "outputs": [
    {
     "name": "stdout",
     "output_type": "stream",
     "text": [
      "Train set: (145, 13) (145,)\n",
      "Test set: (37, 13) (37,)\n"
     ]
    }
   ],
   "source": [
    "from sklearn.model_selection import train_test_split\n",
    "X_train, X_test, y_train, y_test = train_test_split( X, y, test_size=0.2, random_state=4)\n",
    "print ('Train set:', X_train.shape,  y_train.shape)\n",
    "print ('Test set:', X_test.shape,  y_test.shape)"
   ]
  },
  {
   "cell_type": "markdown",
   "metadata": {},
   "source": [
    "### Classification\n",
    "#### K Nearest Neighbour"
   ]
  },
  {
   "cell_type": "code",
   "execution_count": 60,
   "metadata": {},
   "outputs": [],
   "source": [
    "#import libraries\n",
    "from sklearn.neighbors import KNeighborsClassifier"
   ]
  },
  {
   "cell_type": "markdown",
   "metadata": {},
   "source": [
    "Training: k=4"
   ]
  },
  {
   "cell_type": "code",
   "execution_count": 61,
   "metadata": {},
   "outputs": [
    {
     "data": {
      "text/plain": [
       "KNeighborsClassifier(algorithm='auto', leaf_size=30, metric='minkowski',\n",
       "                     metric_params=None, n_jobs=None, n_neighbors=4, p=2,\n",
       "                     weights='uniform')"
      ]
     },
     "execution_count": 61,
     "metadata": {},
     "output_type": "execute_result"
    }
   ],
   "source": [
    "k=4\n",
    "neighbour=KNeighborsClassifier(n_neighbors=k).fit(X_train,y_train)\n",
    "neighbour"
   ]
  },
  {
   "cell_type": "markdown",
   "metadata": {},
   "source": [
    "### Predicting"
   ]
  },
  {
   "cell_type": "code",
   "execution_count": 62,
   "metadata": {},
   "outputs": [
    {
     "data": {
      "text/plain": [
       "array([1., 1., 2., 1., 2.])"
      ]
     },
     "execution_count": 62,
     "metadata": {},
     "output_type": "execute_result"
    }
   ],
   "source": [
    "yhat = neighbour.predict(X_test)\n",
    "yhat[0:5]"
   ]
  },
  {
   "cell_type": "code",
   "execution_count": 63,
   "metadata": {},
   "outputs": [
    {
     "name": "stdout",
     "output_type": "stream",
     "text": [
      "Train set Accuracy:  0.9862068965517241\n",
      "Test set Accuracy:  0.972972972972973\n"
     ]
    }
   ],
   "source": [
    "from sklearn import metrics\n",
    "print(\"Train set Accuracy: \", metrics.accuracy_score(y_train, neighbour.predict(X_train)))\n",
    "print(\"Test set Accuracy: \", metrics.accuracy_score(y_test, yhat))"
   ]
  },
  {
   "cell_type": "markdown",
   "metadata": {},
   "source": [
    "####  For k=6"
   ]
  },
  {
   "cell_type": "code",
   "execution_count": 64,
   "metadata": {},
   "outputs": [
    {
     "data": {
      "text/plain": [
       "array([1., 1., 2., 1., 2.])"
      ]
     },
     "execution_count": 64,
     "metadata": {},
     "output_type": "execute_result"
    }
   ],
   "source": [
    "k=4\n",
    "n=KNeighborsClassifier(n_neighbors=k).fit(X_train,y_train)\n",
    "yhat=n.predict(X_test)\n",
    "yhat[0:5]"
   ]
  },
  {
   "cell_type": "code",
   "execution_count": 65,
   "metadata": {},
   "outputs": [
    {
     "name": "stdout",
     "output_type": "stream",
     "text": [
      "Train set Accuracy:  0.9862068965517241\n",
      "Test set Accuracy:  0.972972972972973\n"
     ]
    }
   ],
   "source": [
    "print(\"Train set Accuracy: \", metrics.accuracy_score(y_train, n.predict(X_train)))\n",
    "print(\"Test set Accuracy: \", metrics.accuracy_score(y_test, yhat))"
   ]
  },
  {
   "cell_type": "markdown",
   "metadata": {},
   "source": [
    "### Calculate accuracies for different K's"
   ]
  },
  {
   "cell_type": "code",
   "execution_count": 66,
   "metadata": {},
   "outputs": [
    {
     "data": {
      "text/plain": [
       "array([0.94594595, 0.94594595, 0.97297297, 0.97297297, 0.97297297,\n",
       "       0.91891892, 0.97297297, 0.89189189, 0.94594595])"
      ]
     },
     "execution_count": 66,
     "metadata": {},
     "output_type": "execute_result"
    }
   ],
   "source": [
    "Ks = 10\n",
    "mean_acc = np.zeros((Ks-1))\n",
    "std_acc = np.zeros((Ks-1))\n",
    "ConfustionMx = [];\n",
    "for n in range(1,Ks):\n",
    "    \n",
    "    #Train Model and Predict  \n",
    "    neigh = KNeighborsClassifier(n_neighbors = n).fit(X_train,y_train)\n",
    "    yhat=neigh.predict(X_test)\n",
    "    mean_acc[n-1] = metrics.accuracy_score(y_test, yhat)\n",
    "\n",
    "    \n",
    "    std_acc[n-1]=np.std(yhat==y_test)/np.sqrt(yhat.shape[0])\n",
    "\n",
    "mean_acc"
   ]
  },
  {
   "cell_type": "markdown",
   "metadata": {},
   "source": [
    "## Visualise"
   ]
  },
  {
   "cell_type": "code",
   "execution_count": 25,
   "metadata": {},
   "outputs": [
    {
     "data": {
      "image/png": "[encoded data removed]",
      "text/plain": [
       "<Figure size 432x288 with 1 Axes>"
      ]
     },
     "metadata": {
      "needs_background": "light"
     },
     "output_type": "display_data"
    }
   ],
   "source": [
    "plt.plot(range(1,Ks),mean_acc,'g')\n",
    "plt.fill_between(range(1,Ks),mean_acc - 1 * std_acc,mean_acc + 1 * std_acc, alpha=0.10)\n",
    "plt.legend(('Accuracy ', '+/- 3xstd'))\n",
    "plt.ylabel('Accuracy ')\n",
    "plt.xlabel('Number of Neighbors (K)')\n",
    "plt.tight_layout()\n",
    "plt.show()"
   ]
  },
  {
   "cell_type": "code",
   "execution_count": 67,
   "metadata": {},
   "outputs": [
    {
     "name": "stdout",
     "output_type": "stream",
     "text": [
      "The best accuracy was with 0.972972972972973 with k= 3\n"
     ]
    }
   ],
   "source": [
    "print( \"The best accuracy was with\", mean_acc.max(), \"with k=\", mean_acc.argmax()+1) "
   ]
  },
  {
   "cell_type": "code",
   "execution_count": null,
   "metadata": {},
   "outputs": [],
   "source": []
  }
 ],
 "metadata": {
  "kernelspec": {
   "display_name": "Python 3",
   "language": "python",
   "name": "python3"
  },
  "language_info": {
   "codemirror_mode": {
    "name": "ipython",
    "version": 3
   },
   "file_extension": ".py",
   "mimetype": "text/x-python",
   "name": "python",
   "nbconvert_exporter": "python",
   "pygments_lexer": "ipython3",
   "version": "3.7.4"
  }
 },
 "nbformat": 4,
 "nbformat_minor": 2
}
